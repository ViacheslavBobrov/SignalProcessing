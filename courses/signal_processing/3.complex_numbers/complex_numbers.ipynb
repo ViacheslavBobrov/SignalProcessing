{
 "cells": [
  {
   "cell_type": "code",
   "execution_count": 18,
   "metadata": {
    "collapsed": true
   },
   "outputs": [
    {
     "name": "stdout",
     "output_type": "stream",
     "text": [
      "(4+3j)\nReal: 4.0  Imaginative: 3.0\n"
     ]
    },
    {
     "data": {
      "text/plain": [
       "Text(0, 0.5, 'Imaginative')"
      ]
     },
     "execution_count": 18,
     "metadata": {},
     "output_type": "execute_result"
    },
    {
     "data": {
      "image/png": "[encoded data removed]",
      "text/plain": [
       "<Figure size 432x288 with 1 Axes>"
      ]
     },
     "metadata": {},
     "output_type": "display_data"
    }
   ],
   "source": [
    "import numpy as np\n",
    "import matplotlib.pyplot as plt\n",
    "\n",
    "z = 4 + 3 * 1j\n",
    "z = 4 + 3j\n",
    "z = complex(4, 3)\n",
    "print(z)\n",
    "print('Real:', np.real(z), ' Imaginative:', np.imag(z))\n",
    "\n",
    "plt.plot(np.real(z), np.imag(z), 'rs')\n",
    "plt.xlim([-5, 5])\n",
    "plt.ylim([-5, 5])\n",
    "plt.xlabel('Real')\n",
    "plt.ylabel('Imaginative')"
   ]
  },
  {
   "cell_type": "markdown",
   "metadata": {},
   "source": [
    "# ADDITION"
   ]
  },
  {
   "cell_type": "code",
   "execution_count": null,
   "metadata": {},
   "outputs": [],
   "source": [
    "# ADDITION\n",
    "n = 5 + 9j\n",
    "complex_sum = z + n\n",
    "complex_sum\n"
   ]
  },
  {
   "cell_type": "markdown",
   "metadata": {},
   "source": [
    "# MULTIPLICATION"
   ]
  },
  {
   "cell_type": "code",
   "execution_count": null,
   "metadata": {},
   "outputs": [],
   "source": [
    "# MULTIPLICATION\n",
    "a = 5 + 8j\n",
    "b = 3 + 10j\n",
    "complex_multiplication = a*b\n",
    "complex_multiplication\n"
   ]
  },
  {
   "cell_type": "code",
   "execution_count": 26,
   "metadata": {},
   "outputs": [
    {
     "data": {
      "text/plain": [
       "(-65+74j)"
      ]
     },
     "execution_count": 26,
     "metadata": {},
     "output_type": "execute_result"
    }
   ],
   "source": [
    "aR = np.real(a)\n",
    "aI = np.imag(a)*1j\n",
    "bR = np.real(b)\n",
    "bI = np.imag(b)*1j\n",
    "complex_multiplication = (aR + aI) * (bR + bI)\n",
    "complex_multiplication\n"
   ]
  },
  {
   "cell_type": "code",
   "execution_count": 28,
   "metadata": {},
   "outputs": [
    {
     "data": {
      "text/plain": [
       "(-65+74j)"
      ]
     },
     "execution_count": 28,
     "metadata": {},
     "output_type": "execute_result"
    }
   ],
   "source": [
    "complex_multiplication = (aR * bR) + (aR * bI) + (aI * bR) + (aI * bI)\n",
    "complex_multiplication"
   ]
  },
  {
   "cell_type": "markdown",
   "metadata": {},
   "source": [
    "# CONJUGATE"
   ]
  },
  {
   "cell_type": "code",
   "execution_count": 34,
   "metadata": {},
   "outputs": [
    {
     "name": "stdout",
     "output_type": "stream",
     "text": [
      "(5-8j)\n(5-8j)\n"
     ]
    }
   ],
   "source": [
    "# CONJUGATE\n",
    "\n",
    "a_conj = np.conjugate(a)\n",
    "a_conj2 = complex(np.real(a), -np.imag(a))\n",
    "print(a_conj)\n",
    "print(a_conj2)"
   ]
  },
  {
   "cell_type": "code",
   "execution_count": 36,
   "metadata": {},
   "outputs": [
    {
     "name": "stdout",
     "output_type": "stream",
     "text": [
      "(89+0j)\n89.0\n"
     ]
    }
   ],
   "source": [
    "# Squared magnitude  of a complex number\n",
    "a_magnitude1 = a*np.conj(a)\n",
    "a_magnitude2 = np.real(a)**2 + np.imag(a)**2\n",
    "print(a_magnitude1)\n",
    "print(a_magnitude2)"
   ]
  },
  {
   "cell_type": "markdown",
   "metadata": {},
   "source": [
    "# DIVISION"
   ]
  },
  {
   "cell_type": "code",
   "execution_count": 37,
   "metadata": {},
   "outputs": [
    {
     "name": "stdout",
     "output_type": "stream",
     "text": [
      "(0.8715596330275229-0.23853211009174313j)\n(0.871559633027523-0.23853211009174313j)\n"
     ]
    }
   ],
   "source": [
    "# DIVISION\n",
    "\n",
    "complex_division1 = a / b\n",
    "complex_division2 = (a * np.conj(b)) / (b * np.conj(b))\n",
    "print(complex_division1)\n",
    "print(complex_division2)\n"
   ]
  },
  {
   "cell_type": "markdown",
   "metadata": {},
   "source": [
    "# Magnitude And Phase Of Complex Numbers"
   ]
  },
  {
   "cell_type": "code",
   "execution_count": 39,
   "metadata": {},
   "outputs": [
    {
     "name": "stdout",
     "output_type": "stream",
     "text": [
      "5.0\n5.0\n"
     ]
    }
   ],
   "source": [
    "# MAGNITUDE AND PHASE OF COMPLEX NUMBERS\n",
    "\n",
    "# Magnitude is the length of hypotenuse\n",
    "complex_magnitude1 = abs(z) \n",
    "complex_magnitude2 = np.sqrt(np.real(z) ** 2 + np.imag(z) ** 2)\n",
    "print(complex_magnitude1)\n",
    "print(complex_magnitude2)\n"
   ]
  },
  {
   "cell_type": "code",
   "execution_count": 42,
   "metadata": {},
   "outputs": [
    {
     "name": "stdout",
     "output_type": "stream",
     "text": [
      "0.6435011087932844\n0.6435011087932844\n"
     ]
    }
   ],
   "source": [
    "# Phase is the angle between real part and hypotenuse\n",
    "complex_phase1 = np.angle(z)\n",
    "complex_phase2 = np.arctan(np.imag(z) / np.real(z))\n",
    "print(complex_phase1)\n",
    "print(complex_phase2)\n"
   ]
  },
  {
   "cell_type": "code",
   "execution_count": 65,
   "metadata": {},
   "outputs": [
    {
     "data": {
      "text/plain": [
       "<matplotlib.legend.Legend at 0xea6c950>"
      ]
     },
     "execution_count": 65,
     "metadata": {},
     "output_type": "execute_result"
    },
    {
     "data": {
      "image/png": "[encoded data removed]",
      "text/plain": [
       "<Figure size 1080x504 with 1 Axes>"
      ]
     },
     "metadata": {},
     "output_type": "display_data"
    }
   ],
   "source": [
    "plt.figure(figsize=(15, 7))\n",
    "plt.plot(np.real(z), np.imag(z), 'rs')\n",
    "plt.xlim([-5, 5])\n",
    "plt.ylim([-5, 5])\n",
    "plt.plot([-5, 5], [0, 0], color='k')\n",
    "plt.plot([0, 0], [-5, 5], color='k')\n",
    "plt.plot([0, np.real(z)], [0, np.imag(z)], color='r', label=(z, 'magnitude= ', abs(z), ' phase=', np.angle(z)))\n",
    "plt.xlabel('Real')\n",
    "plt.ylabel('Imaginative')\n",
    "plt.legend()\n"
   ]
  },
  {
   "cell_type": "code",
   "execution_count": null,
   "metadata": {},
   "outputs": [],
   "source": []
  }
 ],
 "metadata": {
  "kernelspec": {
   "display_name": "Python 2",
   "language": "python",
   "name": "python2"
  },
  "language_info": {
   "codemirror_mode": {
    "name": "ipython",
    "version": 2
   },
   "file_extension": ".py",
   "mimetype": "text/x-python",
   "name": "python",
   "nbconvert_exporter": "python",
   "pygments_lexer": "ipython2",
   "version": "2.7.6"
  }
 },
 "nbformat": 4,
 "nbformat_minor": 0
}
